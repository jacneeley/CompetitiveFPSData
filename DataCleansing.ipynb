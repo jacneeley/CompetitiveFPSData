{
 "cells": [
  {
   "cell_type": "code",
   "execution_count": 5,
   "id": "71653ad6",
   "metadata": {
    "scrolled": true
   },
   "outputs": [],
   "source": [
    "import seaborn as sns\n",
    "import matplotlib.pyplot as plt\n",
    "import pandas as pd\n",
    "import numpy as np\n",
    "import csv"
   ]
  },
  {
   "cell_type": "code",
   "execution_count": 66,
   "id": "43fb67ac",
   "metadata": {},
   "outputs": [],
   "source": [
    "cs = pd.read_csv('csgopros.csv')\n",
    "val = pd.read_csv('valorantpros.csv')"
   ]
  },
  {
   "cell_type": "code",
   "execution_count": 15,
   "id": "e591889d",
   "metadata": {},
   "outputs": [
    {
     "name": "stdout",
     "output_type": "stream",
     "text": [
      "Rank             0\n",
      "Team             0\n",
      "Player           0\n",
      "Role             0\n",
      "Mouse           12\n",
      "M. HZ           14\n",
      "DPI             13\n",
      "Sens            12\n",
      "eDPI            13\n",
      "Zoom Sens       12\n",
      "Accel           15\n",
      "Win Sens        17\n",
      "Raw input       13\n",
      "Monitor          6\n",
      "HZ              11\n",
      "GPU             89\n",
      "Resolution      21\n",
      "Aspect Ratio    22\n",
      "Scaling Mode    89\n",
      "Mousepad        28\n",
      "Keyboard        31\n",
      "Headset         29\n",
      "CFG             95\n",
      "dtype: int64\n",
      "shape: (510, 23)\n"
     ]
    }
   ],
   "source": [
    "#count null values in cspro data\n",
    "print(cs.isnull().sum()),\n",
    "print('shape:',cs.shape)"
   ]
  },
  {
   "cell_type": "code",
   "execution_count": 19,
   "id": "119fe3db",
   "metadata": {},
   "outputs": [
    {
     "name": "stdout",
     "output_type": "stream",
     "text": [
      "rank                   0\n",
      "Team                   0\n",
      "wdt_ID                 0\n",
      "Name                   0\n",
      "Mouse                  2\n",
      "HZ                     2\n",
      "DPI                    2\n",
      "Sensitivity            2\n",
      "eDPI                   3\n",
      "Scoped Sensitivity     8\n",
      "Monitor               24\n",
      "Monitor HZ            23\n",
      "GPU                   91\n",
      "Resolution            13\n",
      "Mousepad              14\n",
      "Keyboard              23\n",
      "Headset               39\n",
      "dtype: int64\n",
      "shape: (353, 17)\n"
     ]
    }
   ],
   "source": [
    "#count null values in valorant pro data\n",
    "print(val.isnull().sum()),\n",
    "print('shape:',val.shape)"
   ]
  },
  {
   "cell_type": "code",
   "execution_count": 31,
   "id": "1fd707a8",
   "metadata": {},
   "outputs": [
    {
     "data": {
      "text/plain": [
       "(array(['Monitor HZ', 'Name', 'Scoped Sensitivity', 'Sensitivity', 'rank',\n",
       "        'wdt_ID'], dtype='<U18'),\n",
       " array(['Accel', 'Aspect Ratio', 'CFG', 'M. HZ', 'Player', 'Rank',\n",
       "        'Raw input', 'Role', 'Scaling Mode', 'Sens', 'Win Sens',\n",
       "        'Zoom Sens'], dtype='<U12'))"
      ]
     },
     "execution_count": 31,
     "metadata": {},
     "output_type": "execute_result"
    }
   ],
   "source": [
    "csheaders = list(cs.columns)\n",
    "valheaders = list(val.columns)\n",
    "ar1 = np.array(csheaders)\n",
    "ar2 = np.array(valheaders)\n",
    "\n",
    "#what columns do not appear in the other?\n",
    "np.setdiff1d(ar2,ar1), np.setdiff1d(ar1,ar2)"
   ]
  },
  {
   "cell_type": "code",
   "execution_count": 69,
   "id": "50fc2c55",
   "metadata": {},
   "outputs": [
    {
     "data": {
      "text/plain": [
       "(510, 15)"
      ]
     },
     "execution_count": 69,
     "metadata": {},
     "output_type": "execute_result"
    }
   ],
   "source": [
    "\n",
    "#drop columns\n",
    "cs = cs.drop(['CFG','Zoom Sens','Scaling Mode','Rank','Role','Raw input','Accel','Win Sens'],axis =1)\n",
    "\n",
    "#rename columns\n",
    "cs.rename(columns = {'HZ':'Monitor HZ','M. HZ':'Mouse HZ','Sens':'Sensitivity'},inplace = True)"
   ]
  },
  {
   "cell_type": "code",
   "execution_count": 62,
   "id": "a4e39702",
   "metadata": {},
   "outputs": [],
   "source": [
    "#drop columns\n",
    "val = val.drop(['wdt_ID','Scoped Sensitivity','rank'],axis=1)\n",
    "\n",
    "#rename columns\n",
    "val.rename(columns = {'HZ':'Mouse HZ'},inplace = True)\n"
   ]
  },
  {
   "cell_type": "code",
   "execution_count": 64,
   "id": "d3cc5bd3",
   "metadata": {},
   "outputs": [
    {
     "data": {
      "text/plain": [
       "(353, 14)"
      ]
     },
     "execution_count": 64,
     "metadata": {},
     "output_type": "execute_result"
    }
   ],
   "source": [
    "val.shape"
   ]
  },
  {
   "cell_type": "code",
   "execution_count": 70,
   "id": "216e9d94",
   "metadata": {},
   "outputs": [
    {
     "data": {
      "text/plain": [
       "(510, 15)"
      ]
     },
     "execution_count": 70,
     "metadata": {},
     "output_type": "execute_result"
    }
   ],
   "source": [
    "cs.shape"
   ]
  },
  {
   "cell_type": "code",
   "execution_count": null,
   "id": "3b903176",
   "metadata": {},
   "outputs": [],
   "source": []
  }
 ],
 "metadata": {
  "kernelspec": {
   "display_name": "Python 3 (ipykernel)",
   "language": "python",
   "name": "python3"
  },
  "language_info": {
   "codemirror_mode": {
    "name": "ipython",
    "version": 3
   },
   "file_extension": ".py",
   "mimetype": "text/x-python",
   "name": "python",
   "nbconvert_exporter": "python",
   "pygments_lexer": "ipython3",
   "version": "3.9.12"
  }
 },
 "nbformat": 4,
 "nbformat_minor": 5
}
